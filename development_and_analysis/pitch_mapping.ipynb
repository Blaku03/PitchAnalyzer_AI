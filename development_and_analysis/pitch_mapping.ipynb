{
  "metadata": {
    "kernelspec": {
      "display_name": "Python 3",
      "name": "python3"
    },
    "language_info": {
      "codemirror_mode": {
        "name": "ipython",
        "version": 3
      },
      "file_extension": ".py",
      "mimetype": "text/x-python",
      "name": "python",
      "nbconvert_exporter": "python",
      "pygments_lexer": "ipython3",
      "version": "3.11.2"
    },
    "kaggle": {
      "accelerator": "gpu",
      "dataSources": [
        {
          "sourceId": 11641590,
          "sourceType": "datasetVersion",
          "datasetId": 7304954
        },
        {
          "sourceId": 376822,
          "sourceType": "modelInstanceVersion",
          "isSourceIdPinned": true,
          "modelInstanceId": 311272,
          "modelId": 311166
        },
        {
          "sourceId": 376828,
          "sourceType": "modelInstanceVersion",
          "isSourceIdPinned": true,
          "modelInstanceId": 311277,
          "modelId": 311166
        }
      ],
      "dockerImageVersionId": 31011,
      "isInternetEnabled": true,
      "language": "python",
      "sourceType": "notebook",
      "isGpuEnabled": true
    },
    "colab": {
      "provenance": [],
      "gpuType": "T4"
    },
    "accelerator": "GPU"
  },
  "nbformat_minor": 5,
  "nbformat": 4,
  "cells": [
    {
      "id": "6e1af7da-6e94-4874-b9d7-2fd8788b8d96",
      "cell_type": "markdown",
      "source": [
        "## Notebook Setup  \n",
        "**Note:** If running on Google Colab, the notebook may automatically restart after reinstalling the correct NumPy version."
      ],
      "metadata": {
        "id": "6e1af7da-6e94-4874-b9d7-2fd8788b8d96"
      }
    },
    {
      "id": "fad2dccb-f869-4396-9e65-4602dd3b4a18",
      "cell_type": "code",
      "source": [
        "import os\n",
        "import sys\n",
        "import subprocess\n",
        "from pathlib import Path\n",
        "\n",
        "def is_kaggle():\n",
        "    return \"KAGGLE_URL_BASE\" in os.environ or \"KAGGLE_KERNEL_RUN_TYPE\" in os.environ\n",
        "\n",
        "def is_colab():\n",
        "    try:\n",
        "        import google.colab  # noqa\n",
        "        return not is_kaggle()\n",
        "    except ImportError:\n",
        "        return False\n",
        "\n",
        "def ensure_numpy_version(required_version=\"1.26.4\"):\n",
        "    import pkg_resources\n",
        "    current_version = pkg_resources.get_distribution(\"numpy\").version\n",
        "    if current_version != required_version:\n",
        "        print(f\"Installing NumPy {required_version} (found {current_version})...\")\n",
        "        subprocess.check_call([\n",
        "            sys.executable, \"-m\", \"pip\", \"install\",\n",
        "            f\"numpy=={required_version}\", \"--force-reinstall\"\n",
        "        ])\n",
        "        print(\"NumPy version updated. Please restart the runtime.\")\n",
        "        os._exit(0)\n",
        "\n",
        "def install_project_colab(token, repo_url, repo_dir):\n",
        "    subprocess.check_call([\"git\", \"clone\", f\"https://{token}@{repo_url}\", repo_dir])\n",
        "    subprocess.check_call([\"pip\", \"install\", repo_dir], stdout=subprocess.DEVNULL, stderr=subprocess.STDOUT)\n",
        "\n",
        "def install_project_kaggle(token, repo_url):\n",
        "    subprocess.check_call([\n",
        "        \"pip\", \"install\", f\"git+https://{token}@{repo_url}\"\n",
        "    ], stdout=subprocess.DEVNULL, stderr=subprocess.STDOUT)\n",
        "\n",
        "def configure_environment():\n",
        "    repo_url = \"github.com/Blaku03/PitchAnalyzer_AI.git\"\n",
        "    repo_name = \"PitchAnalyzer_AI\"\n",
        "\n",
        "    if is_kaggle():\n",
        "        print(\"Running on Kaggle\")\n",
        "        from kaggle_secrets import UserSecretsClient\n",
        "        token = UserSecretsClient().get_secret(\"git_token\")\n",
        "        install_project_kaggle(token, repo_url)\n",
        "        video_path = Path(\"/kaggle/input/pitchtest/08fd33_4.mp4\")\n",
        "        output_path = f\"{video_path.name}_annotated.mp4\"\n",
        "\n",
        "    elif is_colab():\n",
        "        print(\"Running on Google Colab\")\n",
        "        from google.colab import userdata\n",
        "        ensure_numpy_version()\n",
        "        token = userdata.get(\"git_token\")\n",
        "        repo_dir = f\"/content/{repo_name}\"\n",
        "        install_project_colab(token, repo_url, repo_dir)\n",
        "        video_path = Path(repo_dir) / \"sample_data\" / \"08fd33_4.mp4\"\n",
        "        output_path = Path(repo_dir) / \"output_videos\" / f\"{video_path.name}_annotated.mp4\"\n",
        "        os.makedirs(output_path.parent, exist_ok=True)\n",
        "\n",
        "    else:\n",
        "        print(\"Running locally\")\n",
        "        ensure_numpy_version()\n",
        "        get_ipython().run_line_magic(\"load_ext\", \"autoreload\")\n",
        "        get_ipython().run_line_magic(\"autoreload\", \"2\")\n",
        "        ROOT = os.path.abspath(os.path.join(os.getcwd(), \"..\"))\n",
        "        if ROOT not in sys.path:\n",
        "            sys.path.insert(0, ROOT)\n",
        "        video_path = Path(\"../sample_data/08fd33_4.mp4\")\n",
        "        output_path = f\"../output_videos/{video_path.name}_annotated.mp4\"\n",
        "        os.makedirs(os.path.dirname(output_path), exist_ok=True)\n",
        "\n",
        "    return video_path, output_path\n",
        "\n",
        "# Call this function in your notebook\n",
        "video_path, output_path = configure_environment()"
      ],
      "metadata": {
        "trusted": true,
        "execution": {
          "iopub.status.busy": "2025-05-07T09:17:37.000089Z",
          "iopub.execute_input": "2025-05-07T09:17:37.000703Z",
          "iopub.status.idle": "2025-05-07T09:17:46.114174Z",
          "shell.execute_reply.started": "2025-05-07T09:17:37.000673Z",
          "shell.execute_reply": "2025-05-07T09:17:46.113586Z"
        },
        "id": "fad2dccb-f869-4396-9e65-4602dd3b4a18"
      },
      "outputs": [],
      "execution_count": null
    },
    {
      "id": "fa4cb0da-75ec-46b6-b94b-f78a5627df80",
      "cell_type": "markdown",
      "source": [
        "## Import models"
      ],
      "metadata": {
        "id": "fa4cb0da-75ec-46b6-b94b-f78a5627df80"
      }
    },
    {
      "id": "e778abd4-0bf6-4799-839c-e3822a29ee68",
      "cell_type": "code",
      "source": [
        "from utils.import_models import ModelImporter\n",
        "field_model = ModelImporter().download_pitch_model()\n",
        "players_model = ModelImporter().download_player_model()"
      ],
      "metadata": {
        "trusted": true,
        "execution": {
          "iopub.status.busy": "2025-05-07T09:17:46.115267Z",
          "iopub.execute_input": "2025-05-07T09:17:46.115495Z",
          "iopub.status.idle": "2025-05-07T09:17:46.858972Z",
          "shell.execute_reply.started": "2025-05-07T09:17:46.115478Z",
          "shell.execute_reply": "2025-05-07T09:17:46.858396Z"
        },
        "id": "e778abd4-0bf6-4799-839c-e3822a29ee68"
      },
      "outputs": [],
      "execution_count": null
    },
    {
      "id": "242b3ce7-d142-479d-892c-6b075896b1da",
      "cell_type": "markdown",
      "source": [
        "## Demo of the field mapper"
      ],
      "metadata": {
        "id": "242b3ce7-d142-479d-892c-6b075896b1da"
      }
    },
    {
      "id": "20133983-ecf0-4f72-8a62-f7014011f195",
      "cell_type": "code",
      "source": [
        "from utils.notebook_utils import show_image\n",
        "from utils.video_utils import read_video\n",
        "from trackers.pitch_tracker import PitchTracker\n",
        "from annotators.pitch_annotator import PitchAnnotator\n",
        "\n",
        "frame_generator = read_video(video_path)\n",
        "first_frame = next(frame_generator)\n",
        "\n",
        "pitch_tracker = PitchTracker(field_model)\n",
        "pitch_keypoints, confidence_mask = pitch_tracker.get_pitch_keypoints(first_frame)\n",
        "pitch_edges = pitch_tracker.get_pitch_edges(first_frame)\n",
        "\n",
        "show_image(PitchAnnotator.annotate_frame(first_frame.copy(), (pitch_keypoints,pitch_edges)))"
      ],
      "metadata": {
        "scrolled": true,
        "trusted": true,
        "execution": {
          "iopub.status.busy": "2025-05-07T09:17:46.859674Z",
          "iopub.execute_input": "2025-05-07T09:17:46.859925Z",
          "iopub.status.idle": "2025-05-07T09:17:48.587806Z",
          "shell.execute_reply.started": "2025-05-07T09:17:46.859906Z",
          "shell.execute_reply": "2025-05-07T09:17:48.587013Z"
        },
        "id": "20133983-ecf0-4f72-8a62-f7014011f195"
      },
      "outputs": [],
      "execution_count": null
    },
    {
      "id": "954a4c04-c6f2-494c-961e-844e10f49e0f",
      "cell_type": "code",
      "source": [
        "from utils.pitch_utils import draw_pitch, draw_points_on_pitch\n",
        "from mapping_2d.soccer_field import SoccerPitchConfiguration\n",
        "import supervision as sv\n",
        "\n",
        "mapped_vert = pitch_tracker.map_points_2d(first_frame, pitch_keypoints.xy[0])\n",
        "\n",
        "pitch_img = draw_pitch(SoccerPitchConfiguration())\n",
        "pitch_img = draw_points_on_pitch(\n",
        "    config=SoccerPitchConfiguration(),\n",
        "    xy=mapped_vert.xy[0],\n",
        "    face_color=sv.Color.BLUE,\n",
        "    edge_color=sv.Color.BLACK,\n",
        "    radius=10,\n",
        "    pitch=pitch_img)\n",
        "\n",
        "show_image(pitch_img)"
      ],
      "metadata": {
        "trusted": true,
        "execution": {
          "iopub.status.busy": "2025-05-07T09:17:48.588654Z",
          "iopub.execute_input": "2025-05-07T09:17:48.588892Z",
          "iopub.status.idle": "2025-05-07T09:17:48.875206Z",
          "shell.execute_reply.started": "2025-05-07T09:17:48.588847Z",
          "shell.execute_reply": "2025-05-07T09:17:48.874404Z"
        },
        "id": "954a4c04-c6f2-494c-961e-844e10f49e0f"
      },
      "outputs": [],
      "execution_count": null
    },
    {
      "id": "73165f9e-7b60-4006-9626-e9b0d5239eee",
      "cell_type": "markdown",
      "source": [
        "## Draw detected players on the 2d plane"
      ],
      "metadata": {
        "id": "73165f9e-7b60-4006-9626-e9b0d5239eee"
      }
    },
    {
      "id": "5badefb9-5c7c-4b2b-863f-b3f26c6f381d",
      "cell_type": "code",
      "source": [
        "from annotators.game_entities_annotator import GameEntitiesAnnotator\n",
        "from trackers.game_tracker import GameTracker\n",
        "\n",
        "frame_generator = read_video(video_path)\n",
        "tracks_generator =  GameTracker(players_model).get_detections_generator(frame_generator)\n",
        "\n",
        "first_frame = next(frame_generator)\n",
        "first_players_tracks = next(tracks_generator)\n",
        "\n",
        "annotated_sample_image = GameEntitiesAnnotator.annotate_frame(first_frame.copy(), first_players_tracks)\n",
        "show_image(annotated_sample_image)"
      ],
      "metadata": {
        "scrolled": true,
        "trusted": true,
        "execution": {
          "iopub.status.busy": "2025-05-07T09:17:48.876929Z",
          "iopub.execute_input": "2025-05-07T09:17:48.877154Z",
          "iopub.status.idle": "2025-05-07T09:18:00.479185Z",
          "shell.execute_reply.started": "2025-05-07T09:17:48.877137Z",
          "shell.execute_reply": "2025-05-07T09:18:00.478412Z"
        },
        "id": "5badefb9-5c7c-4b2b-863f-b3f26c6f381d"
      },
      "outputs": [],
      "execution_count": null
    },
    {
      "id": "bbc0b550-b071-473f-8159-756b34671ed6",
      "cell_type": "code",
      "source": [
        "from annotators.pitch_2d_annotator import Pitch2DAnnotator\n",
        "\n",
        "bottom_boxes = first_players_tracks.players_detections.get_anchors_coordinates(sv.Position.BOTTOM_CENTER)\n",
        "mapped_2d_points = pitch_tracker.map_points_2d(first_frame, bottom_boxes)\n",
        "\n",
        "show_image(Pitch2DAnnotator().annotate_frame(mapped_2d_points.xy[0], first_players_tracks))"
      ],
      "metadata": {
        "trusted": true,
        "execution": {
          "iopub.status.busy": "2025-05-07T09:18:00.480113Z",
          "iopub.execute_input": "2025-05-07T09:18:00.480557Z",
          "iopub.status.idle": "2025-05-07T09:18:00.736739Z",
          "shell.execute_reply.started": "2025-05-07T09:18:00.480535Z",
          "shell.execute_reply": "2025-05-07T09:18:00.735963Z"
        },
        "id": "bbc0b550-b071-473f-8159-756b34671ed6"
      },
      "outputs": [],
      "execution_count": null
    },
    {
      "id": "524e599f-1329-4fd2-82b5-7c730c43e547",
      "cell_type": "code",
      "source": [
        "# Annotate the full video\n",
        "from utils.video_utils import save_video\n",
        "import itertools\n",
        "\n",
        "frame_generator = read_video(video_path)\n",
        "frame_gen1, frame_gen2 = itertools.tee(frame_generator)\n",
        "\n",
        "tracks_generator =  GameTracker(players_model).get_detections_generator(frame_gen1)\n",
        "tracks_gen1, tracks_gen2 = itertools.tee(tracks_generator)\n",
        "\n",
        "mapped_2d_points_generator = pitch_tracker.map_players_tracks_2d_generator(frame_gen2, tracks_gen1)\n",
        "annotated_2d_field_generator = Pitch2DAnnotator().annotate_video(mapped_2d_points_generator, tracks_gen2)\n",
        "save_video(annotated_2d_field_generator, output_path)"
      ],
      "metadata": {
        "scrolled": true,
        "trusted": true,
        "execution": {
          "iopub.status.busy": "2025-05-07T09:18:00.737603Z",
          "iopub.execute_input": "2025-05-07T09:18:00.738422Z",
          "iopub.status.idle": "2025-05-07T09:19:57.279260Z",
          "shell.execute_reply.started": "2025-05-07T09:18:00.738396Z",
          "shell.execute_reply": "2025-05-07T09:19:57.278685Z"
        },
        "id": "524e599f-1329-4fd2-82b5-7c730c43e547"
      },
      "outputs": [],
      "execution_count": null
    }
  ]
}