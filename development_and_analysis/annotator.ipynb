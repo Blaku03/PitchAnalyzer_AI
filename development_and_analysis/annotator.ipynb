{
 "cells": [
  {
   "cell_type": "markdown",
   "id": "6b4c6ecc-698f-491c-b025-d5cdd2f32565",
   "metadata": {},
   "source": [
    "## Setup the notebook"
   ]
  },
  {
   "cell_type": "code",
   "execution_count": null,
   "id": "2a3d52eb-cd98-45fb-960f-436d8ae060a1",
   "metadata": {},
   "outputs": [],
   "source": [
    "import os, sys\n",
    "\n",
    "if os.environ.get(\"KAGGLE_KERNEL_RUN_TYPE\"):\n",
    "    from kaggle_secrets import UserSecretsClient\n",
    "    import subprocess\n",
    "    \n",
    "    user_secrets = UserSecretsClient()\n",
    "    token = user_secrets.get_secret(\"git_token\")\n",
    "    \n",
    "    repo_url = f\"git+https://{token}@github.com/Blaku03/PitchAnalyzer_AI.git\"\n",
    "    \n",
    "    subprocess.check_call(\n",
    "        [\"pip\", \"install\", repo_url],\n",
    "        stdout=subprocess.DEVNULL,\n",
    "        stderr=subprocess.STDOUT\n",
    "    )\n",
    "    video_path = \"/kaggle/input/pitchtest/B1606b0e6_1 (91).mp4\"\n",
    "    output_path = \"./output_video.avi\"\n",
    "else:\n",
    "    # reloads the code during development\n",
    "    %load_ext autoreload\n",
    "    %autoreload 2\n",
    "    # ensure project root (one level up) is on PATH\n",
    "    ROOT = os.path.abspath(os.path.join(os.getcwd(), \"..\"))\n",
    "    if ROOT not in sys.path:\n",
    "        sys.path.insert(0, ROOT)\n",
    "\n",
    "    video_path = \"../sample_data/B1606b0e6_1 (91).mp4\"\n",
    "    output_path = \"../output_videos/output_video.avi\"\n",
    "    os.makedirs(os.path.dirname(output_path), exist_ok=True)"
   ]
  },
  {
   "cell_type": "markdown",
   "id": "76b003e9-96be-4c64-a3a2-5a155d118720",
   "metadata": {},
   "source": [
    "## Import the model"
   ]
  },
  {
   "cell_type": "code",
   "execution_count": null,
   "id": "1a51f2eb-f602-4321-9bc4-bbf26fc74250",
   "metadata": {
    "scrolled": true
   },
   "outputs": [],
   "source": [
    "from utils.import_models import ModelImporter\n",
    "players_model = ModelImporter().download_player_model()"
   ]
  },
  {
   "cell_type": "markdown",
   "id": "3b32023f-65d2-4e21-b823-4dacae051c86",
   "metadata": {},
   "source": [
    "## Sanity check on the first frame"
   ]
  },
  {
   "cell_type": "code",
   "execution_count": null,
   "id": "c533df73-5c36-47e2-a6ca-fce0ccdebff0",
   "metadata": {
    "scrolled": true
   },
   "outputs": [],
   "source": [
    "from annotators.player_annotator import PlayersAnnotator\n",
    "from trackers.game_tracker import GameTracker\n",
    "from utils.notebook_utils import show_image\n",
    "from utils.video_utils import read_video\n",
    "\n",
    "frame_generator = read_video(video_path)\n",
    "tracks_generator =  GameTracker(players_model).get_detections_from_frames(frame_generator)\n",
    "\n",
    "first_frame = next(frame_generator)\n",
    "first_players_tracks = next(tracks_generator)\n",
    "\n",
    "annotated_sample_image = PlayersAnnotator.annotate_frame(first_frame, first_players_tracks)\n",
    "show_image(annotated_sample_image)"
   ]
  },
  {
   "cell_type": "markdown",
   "id": "6b2a0f8d-7c29-46eb-9da0-5aca8f95f3ad",
   "metadata": {},
   "source": [
    "## Annotate the provided video"
   ]
  },
  {
   "cell_type": "code",
   "execution_count": null,
   "id": "0b2a330c-85d2-4e66-b069-e63abd78d8e6",
   "metadata": {
    "scrolled": true
   },
   "outputs": [],
   "source": [
    "frame_generator = read_video(video_path)\n",
    "tracks_generator =  GameTracker(players_model).get_detections_from_frames(frame_generator)\n",
    "\n",
    "annotated_frames_generator = PlayersAnnotator.annotate_video(frame_generator, tracks_generator)\n",
    "save_video(annotated_frames_generator, output_path)"
   ]
  }
 ],
 "metadata": {
  "kernelspec": {
   "display_name": "Python 3 (ipykernel)",
   "language": "python",
   "name": "python3"
  },
  "language_info": {
   "codemirror_mode": {
    "name": "ipython",
    "version": 3
   },
   "file_extension": ".py",
   "mimetype": "text/x-python",
   "name": "python",
   "nbconvert_exporter": "python",
   "pygments_lexer": "ipython3",
   "version": "3.11.11"
  }
 },
 "nbformat": 4,
 "nbformat_minor": 5
}
