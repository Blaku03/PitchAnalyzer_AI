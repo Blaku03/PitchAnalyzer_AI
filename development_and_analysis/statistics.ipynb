{
 "cells": [
  {
   "cell_type": "code",
   "execution_count": 1,
   "id": "0b3ab148-2cf2-4d95-8240-80e60e66bd3b",
   "metadata": {},
   "outputs": [],
   "source": [
    "%load_ext autoreload\n",
    "%autoreload 2"
   ]
  },
  {
   "cell_type": "code",
   "execution_count": 2,
   "id": "658f4071-4933-4cbd-aeb3-fb20fe0f59d0",
   "metadata": {},
   "outputs": [],
   "source": [
    "import os, sys\n",
    "\n",
    "# ensure project root (one level up) is on PATH\n",
    "ROOT = os.path.abspath(os.path.join(os.getcwd(), \"..\"))\n",
    "if ROOT not in sys.path:\n",
    "    sys.path.insert(0, ROOT)"
   ]
  },
  {
   "cell_type": "code",
   "execution_count": 3,
   "id": "319868fe-4cf3-452a-a835-73a674e6127d",
   "metadata": {},
   "outputs": [
    {
     "name": "stdout",
     "output_type": "stream",
     "text": [
      "Downloading player detection model...\n",
      "Model downloaded to /home/bbrzyski/.cache/kagglehub/models/blaku03/player-detection/pyTorch/player_detectionv1_1/1\n"
     ]
    }
   ],
   "source": [
    "from utils.import_models import ModelImporter\n",
    "players_model = ModelImporter().download_player_model()"
   ]
  },
  {
   "cell_type": "code",
   "execution_count": 4,
   "id": "86d481b0-81b6-4cef-a94d-564291aab26a",
   "metadata": {},
   "outputs": [],
   "source": [
    "from trackers.player_detector import PlayerDetector\n",
    "from utils.video_utils import read_video, save_video\n",
    "\n",
    "video_path = \"../sample_data/B1606b0e6_1 (91).mp4\"\n",
    "output_path = \"../output_videos/output_video.avi\"\n",
    "os.makedirs(os.path.dirname(output_path), exist_ok=True)\n",
    "\n",
    "frame_generator = read_video(video_path)\n",
    "tracks_generator =  PlayerDetector(players_model).get_detections_from_frames(frame_generator)"
   ]
  }
 ],
 "metadata": {
  "kernelspec": {
   "display_name": "Python 3 (ipykernel)",
   "language": "python",
   "name": "python3"
  },
  "language_info": {
   "codemirror_mode": {
    "name": "ipython",
    "version": 3
   },
   "file_extension": ".py",
   "mimetype": "text/x-python",
   "name": "python",
   "nbconvert_exporter": "python",
   "pygments_lexer": "ipython3",
   "version": "3.11.2"
  }
 },
 "nbformat": 4,
 "nbformat_minor": 5
}
