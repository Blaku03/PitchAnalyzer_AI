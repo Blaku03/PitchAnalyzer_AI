{
 "cells": [
  {
   "cell_type": "code",
   "execution_count": 1,
   "id": "0b3ab148-2cf2-4d95-8240-80e60e66bd3b",
   "metadata": {},
   "outputs": [],
   "source": [
    "%load_ext autoreload\n",
    "%autoreload 2"
   ]
  },
  {
   "cell_type": "code",
   "execution_count": 2,
   "id": "658f4071-4933-4cbd-aeb3-fb20fe0f59d0",
   "metadata": {},
   "outputs": [],
   "source": [
    "import os, sys\n",
    "\n",
    "# ensure project root (one level up) is on PATH\n",
    "ROOT = os.path.abspath(os.path.join(os.getcwd(), \"..\"))\n",
    "if ROOT not in sys.path:\n",
    "    sys.path.insert(0, ROOT)"
   ]
  },
  {
   "cell_type": "code",
   "execution_count": 4,
   "id": "86d481b0-81b6-4cef-a94d-564291aab26a",
   "metadata": {},
   "outputs": [
    {
     "name": "stdout",
     "output_type": "stream",
     "text": [
      "Downloading player detection model...\n",
      "Warning: Looks like you're using an outdated `kagglehub` version (installed: 0.3.11), please consider upgrading to the latest version (0.3.12).\n",
      "Model downloaded to /Users/bartekbrzyski/.cache/kagglehub/models/blaku03/player-detection/pyTorch/player_detectionv1_1/1\n"
     ]
    }
   ],
   "source": [
    "from trackers.game_tracker import GameTracker\n",
    "from utils.video_utils import read_video, save_video\n",
    "from utils.import_models import ModelImporter\n",
    "\n",
    "players_model = ModelImporter().download_player_model()\n",
    "video_path = \"../sample_data/B1606b0e6_1 (91).mp4\"\n",
    "output_path = \"../output_videos/output_video.avi\"\n",
    "os.makedirs(os.path.dirname(output_path), exist_ok=True)"
   ]
  },
  {
   "cell_type": "code",
   "execution_count": null,
   "id": "685bf70e-a73a-4d80-84a0-cf35edae4923",
   "metadata": {},
   "outputs": [],
   "source": [
    "from annotators.player_annotator import PlayersAnnotator\n",
    "from utils.notebook_utils import show_image\n",
    "import itertools\n",
    "\n",
    "frame_generator = read_video(video_path)\n",
    "first_frame = next(frame_generator)\n",
    "\n",
    "tracks_generator =  PlayerDetector(players_model).get_detections_from_frames(frame_generator)\n",
    "first_track = next(tracks_generator)\n",
    "\n",
    "annotated_sample_image = PlayersAnnotator.annotate_frame(first_frame.copy(), first_track)\n",
    "show_image(annotated_sample_image)"
   ]
  },
  {
   "cell_type": "code",
   "execution_count": null,
   "id": "8e566d0d-92e5-4bfd-b1e2-f4401c504683",
   "metadata": {},
   "outputs": [],
   "source": [
    "from assigners.ball_statistics import BallStatictis\n",
    "\n",
    "frame_generator = read_video(video_path)\n",
    "tracks_generator =  PlayerDetector(players_model).get_detections_from_frames(frame_generator)\n",
    "\n",
    "itr = 0\n",
    "ball_stats = BallStatictis()\n",
    "for track in tracks_generator:\n",
    "    ball_stats.stats(track)\n",
    "    itr += 1\n",
    "    if itr == 10:\n",
    "        break"
   ]
  }
 ],
 "metadata": {
  "kernelspec": {
   "display_name": "Python 3 (ipykernel)",
   "language": "python",
   "name": "python3"
  },
  "language_info": {
   "codemirror_mode": {
    "name": "ipython",
    "version": 3
   },
   "file_extension": ".py",
   "mimetype": "text/x-python",
   "name": "python",
   "nbconvert_exporter": "python",
   "pygments_lexer": "ipython3",
   "version": "3.11.11"
  }
 },
 "nbformat": 4,
 "nbformat_minor": 5
}
