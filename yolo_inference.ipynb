{
 "cells": [
  {
   "cell_type": "code",
   "execution_count": null,
   "id": "e4dea3be-0882-4052-80ff-553138e6b024",
   "metadata": {},
   "outputs": [],
   "source": [
    "import cv2\n",
    "from ultralytics import YOLO\n",
    "import math # Used for rounding confidence scores"
   ]
  },
  {
   "cell_type": "code",
   "execution_count": null,
   "id": "8287a39a-ead0-44ba-9b08-58b6b340832f",
   "metadata": {},
   "outputs": [],
   "source": [
    "import torch\n",
    "\n",
    "# Check if CUDA is available\n",
    "print(\"CUDA Available:\", torch.cuda.is_available())\n",
    "\n",
    "# Get GPU details\n",
    "if torch.cuda.is_available():\n",
    "    print(\"GPU Name:\", torch.cuda.get_device_name(0))\n"
   ]
  },
  {
   "cell_type": "code",
   "execution_count": null,
   "id": "662f1b83-954b-4616-bb46-74aea06434aa",
   "metadata": {},
   "outputs": [],
   "source": [
    "# --- Configuration ---\n",
    "MODEL_NAME = \"yolo11x.pt\"\n",
    "VIDEO_PATH = 'sample_data/B1606b0e6_1 (91).mp4'\n",
    "CONFIDENCE_THRESHOLD = 0.4\n",
    "BOX_COLOR = (255, 0, 255) # BGR color for the bounding box (Magenta)\n",
    "TEXT_COLOR = (255, 255, 255) # BGR color for the text (White)\n",
    "FONT = cv2.FONT_HERSHEY_SIMPLEX\n",
    "FONT_SCALE = 0.6\n",
    "FONT_THICKNESS = 2\n",
    "BOX_THICKNESS = 2"
   ]
  },
  {
   "cell_type": "code",
   "execution_count": null,
   "id": "19a1341b-2e72-472a-b9ce-179bd9ef66db",
   "metadata": {},
   "outputs": [],
   "source": [
    "# --- Load the Model ---\n",
    "print(f\"Loading model: {MODEL_NAME}\")\n",
    "try:\n",
    "    model = YOLO(MODEL_NAME)\n",
    "    class_names = model.names # Get class names dictionary\n",
    "    print(\"Model loaded successfully.\")\n",
    "except Exception as e:\n",
    "    print(f\"Error loading model: {e}\")\n",
    "    exit()"
   ]
  },
  {
   "cell_type": "code",
   "execution_count": null,
   "id": "9971bfd7-72a3-4893-920e-3a076d4c1f3d",
   "metadata": {},
   "outputs": [],
   "source": [
    "# --- Initialize Video Capture ---\n",
    "print(f\"Opening video source: {VIDEO_PATH}\")\n",
    "cap = cv2.VideoCapture(VIDEO_PATH)\n",
    "\n",
    "# Check if video opened successfully\n",
    "if not cap.isOpened():\n",
    "    print(f\"Error: Could not open video source: {VIDEO_PATH}\")\n",
    "    exit()"
   ]
  },
  {
   "cell_type": "code",
   "execution_count": null,
   "id": "4cf7ad7b-530d-4fff-9ef1-1f531d7b4f9d",
   "metadata": {},
   "outputs": [],
   "source": [
    "# --- Processing Loop ---\n",
    "print(\"Starting video processing... Press 'q' to quit.\")\n",
    "while True:\n",
    "    # Read a frame from the video\n",
    "    ret, frame = cap.read()\n",
    "\n",
    "    # If frame reading was not successful (end of video or error)\n",
    "    if not ret:\n",
    "        print(\"Reached end of video or failed to read frame.\")\n",
    "        break\n",
    "\n",
    "    # --- Perform YOLO Prediction ---\n",
    "    # Using stream=True is generally more efficient for video/sequential inputs\n",
    "    results = model.predict(frame, stream=True, verbose=False) # Set verbose=False to avoid console spam\n",
    "\n",
    "    # --- Process Detections and Draw on Frame ---\n",
    "    for r in results: # Results is a generator when stream=True\n",
    "        boxes = r.boxes\n",
    "        for box in boxes:\n",
    "            # 1. Get Confidence Score\n",
    "            confidence = math.ceil(box.conf[0] * 100) / 100\n",
    "            # print(f\"Confidence: {confidence}\") # Optional: print confidence\n",
    "\n",
    "            # 2. Filter detections by confidence\n",
    "            if confidence >= CONFIDENCE_THRESHOLD:\n",
    "                # 3. Get Bounding Box Coordinates\n",
    "                x1, y1, x2, y2 = box.xyxy[0] # Format: [xmin, ymin, xmax, ymax]\n",
    "                x1, y1, x2, y2 = int(x1), int(y1), int(x2), int(y2) # Convert to integers\n",
    "\n",
    "                # 4. Get Class ID and Name\n",
    "                cls_id = int(box.cls[0])\n",
    "                cls_name = class_names.get(cls_id, \"Unknown\") # Use .get for safety\n",
    "                # print(f\"Detected: {cls_name} ({confidence:.2f}) at [{x1},{y1},{x2},{y2}]\") # Optional\n",
    "\n",
    "                # 5. Draw Bounding Box\n",
    "                cv2.rectangle(frame, (x1, y1), (x2, y2), BOX_COLOR, BOX_THICKNESS)\n",
    "\n",
    "                # 6. Create Label Text\n",
    "                label = f\"{cls_name} {confidence:.2f}\"\n",
    "\n",
    "                # 7. Calculate text size and position for label background\n",
    "                (text_width, text_height), baseline = cv2.getTextSize(label, FONT, FONT_SCALE, FONT_THICKNESS)\n",
    "                label_bg_y1 = max(y1 - text_height - baseline, 0) # Position above the box, ensure it's not off-screen top\n",
    "                label_bg_y2 = y1 # Base of the background rectangle\n",
    "\n",
    "                # 8. Draw a filled rectangle as the background for the label\n",
    "                cv2.rectangle(frame, (x1, label_bg_y1), (x1 + text_width, label_bg_y2), BOX_COLOR, cv2.FILLED)\n",
    "\n",
    "                # 9. Put Label Text on the background\n",
    "                cv2.putText(frame, label, (x1, y1 - baseline), FONT, FONT_SCALE, TEXT_COLOR, FONT_THICKNESS)\n",
    "\n",
    "\n",
    "    # --- Display the Frame ---\n",
    "    cv2.imshow(\"YOLO Real-Time Detection\", frame)\n",
    "\n",
    "    # --- Exit Condition ---\n",
    "    # Wait for 1 millisecond and check if the 'q' key was pressed\n",
    "    if cv2.waitKey(1) & 0xFF == ord('q'):\n",
    "        print(\"Exit key ('q') pressed. Stopping...\")\n",
    "        break\n",
    "\n",
    "# --- Cleanup ---\n",
    "print(\"Releasing video capture and closing windows.\")\n",
    "cap.release() # Release the video capture object\n",
    "cv2.destroyAllWindows() # Close all OpenCV display windows\n",
    "\n",
    "print(\"Video processing finished.\")"
   ]
  }
 ],
 "metadata": {
  "kernelspec": {
   "display_name": "Python 3 (ipykernel)",
   "language": "python",
   "name": "python3"
  },
  "language_info": {
   "codemirror_mode": {
    "name": "ipython",
    "version": 3
   },
   "file_extension": ".py",
   "mimetype": "text/x-python",
   "name": "python",
   "nbconvert_exporter": "python",
   "pygments_lexer": "ipython3",
   "version": "3.11.2"
  }
 },
 "nbformat": 4,
 "nbformat_minor": 5
}
