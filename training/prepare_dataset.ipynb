{
 "cells": [
  {
   "cell_type": "markdown",
   "id": "08c556cc-716c-46a5-8657-d541ae77e4d4",
   "metadata": {},
   "source": [
    "# Create the dataset from videos"
   ]
  },
  {
   "cell_type": "code",
   "execution_count": null,
   "id": "4089161c-4b32-4788-bb97-cf54facfb343",
   "metadata": {},
   "outputs": [],
   "source": [
    "import cv2\n",
    "import os\n",
    "import random\n",
    "from pathlib import Path"
   ]
  },
  {
   "cell_type": "code",
   "execution_count": null,
   "id": "83841aad-710b-4010-b737-26fa3098250c",
   "metadata": {},
   "outputs": [],
   "source": [
    "def extract_random_frames(video_path, output_folder, num_frames=5):\n",
    "    # Open the video file using OpenCV\n",
    "    cap = cv2.VideoCapture(str(video_path))\n",
    "    if not cap.isOpened():\n",
    "        print(f\"Failed to open video: {video_path}\")\n",
    "        return\n",
    "\n",
    "    # Get total number of frames in the video\n",
    "    total_frames = int(cap.get(cv2.CAP_PROP_FRAME_COUNT))\n",
    "    if total_frames < num_frames:\n",
    "        print(f\"Not enough frames in {video_path} to extract {num_frames} random frames.\")\n",
    "        cap.release()\n",
    "        return\n",
    "\n",
    "    # Generate a sorted list of random frame indices for reproducibility if needed\n",
    "    random_frames = sorted(random.sample(range(total_frames), num_frames))\n",
    "    frame_idx = 0\n",
    "    saved_frames = 0\n",
    "\n",
    "    # Process each frame in the video\n",
    "    success, frame = cap.read()\n",
    "    while success and saved_frames < num_frames:\n",
    "        if frame_idx == random_frames[saved_frames]:\n",
    "            # Create an output filename using the video name and frame index\n",
    "            output_file = os.path.join(output_folder, f\"{video_path.stem}_frame{frame_idx}.jpg\")\n",
    "            cv2.imwrite(output_file, frame)\n",
    "            print(f\"Saved frame {frame_idx} to {output_file}\")\n",
    "            saved_frames += 1\n",
    "        frame_idx += 1\n",
    "        success, frame = cap.read()\n",
    "    \n",
    "    cap.release()"
   ]
  },
  {
   "cell_type": "code",
   "execution_count": null,
   "id": "8a92f6ae-fe48-45df-a380-a8a274791a11",
   "metadata": {},
   "outputs": [],
   "source": [
    "# Process videos from given catalog\n",
    "def process_videos(input_folder, output_folder, num_videos=36, num_frames=5):\n",
    "    # Ensure the output folder exists\n",
    "    os.makedirs(output_folder, exist_ok=True)\n",
    "    \n",
    "    video_extensions = ('.mp4', '.avi', '.mov', '.mkv')\n",
    "    \n",
    "    # Iterate over all files in the input folder\n",
    "    counter = 0\n",
    "    for video_file in Path(input_folder).glob(\"*\"):\n",
    "        counter += 1\n",
    "        if counter == num_videos:\n",
    "            return\n",
    "        if video_file.suffix.lower() in video_extensions:\n",
    "            print(f\"Processing video: {video_file}\")\n",
    "            extract_random_frames(video_file, output_folder, num_frames)"
   ]
  },
  {
   "cell_type": "code",
   "execution_count": null,
   "id": "03cfa2b2-d19e-455c-ab83-83ebbc500799",
   "metadata": {
    "scrolled": true
   },
   "outputs": [],
   "source": [
    "input_folder = Path(\"../datasets/DFL Bundesliga Data Shootout/train\")\n",
    "output_folder = Path(\"../datasets/data_player_detection-raw\")\n",
    "process_videos(input_folder, output_folder)\n",
    "print(input_folder.exists()) "
   ]
  },
  {
   "cell_type": "code",
   "execution_count": null,
   "id": "7aede5fa-9aea-4774-94c4-ab76709295fa",
   "metadata": {
    "scrolled": true
   },
   "outputs": [],
   "source": [
    "for catalog in input_folder.glob(\"*\"):\n",
    "    if catalog.is_dir():\n",
    "        process_videos(catalog, output_folder)"
   ]
  },
  {
   "cell_type": "markdown",
   "id": "5600deb0-548e-4611-a6ff-5c125d453d47",
   "metadata": {},
   "source": [
    "# Split labeled data from label studio"
   ]
  },
  {
   "cell_type": "code",
   "execution_count": null,
   "id": "5367ea08-3f16-461c-9f4f-3eac127a4a50",
   "metadata": {},
   "outputs": [],
   "source": [
    "import supervision as sv\n",
    "from pathlib import Path\n",
    "\n",
    "dataset_base_path = Path('../../kagg/')\n",
    "\n",
    "print(dataset_base_path.exists())\n",
    "\n",
    "ds = sv.DetectionDataset.from_yolo(\n",
    "    images_directory_path = dataset_base_path / 'images',\n",
    "    annotations_directory_path = dataset_base_path/ 'labels',\n",
    "    data_yaml_path = dataset_base_path / 'data.yaml'\n",
    ")\n",
    "\n",
    "print(ds.classes)\n",
    "\n",
    "train_ds, test_ds = ds.split(split_ratio=0.7,\n",
    "                             random_state=42, shuffle=True)\n",
    "\n",
    "len(train_ds), len(test_ds)"
   ]
  },
  {
   "cell_type": "code",
   "execution_count": null,
   "id": "aea242f1-33c8-4111-bfc5-6dec8ac5a800",
   "metadata": {},
   "outputs": [],
   "source": [
    "import os\n",
    "# Define base directory where final training data will be\n",
    "base_dir = Path(\"../../datasets/player_detection/\")\n",
    "train_dir = base_dir / \"train\"\n",
    "val_dir = base_dir / \"valid\"\n",
    "\n",
    "# Save datasets\n",
    "train_ds.as_yolo(images_directory_path=f\"{train_dir}/images\", annotations_directory_path=f\"{train_dir}/labels\")\n",
    "test_ds.as_yolo(images_directory_path=f\"{val_dir}/images\", annotations_directory_path=f\"{val_dir}/labels\")\n",
    "\n",
    "# Create data.yaml\n",
    "data_yaml_path = os.path.join(base_dir, \"data.yaml\")\n",
    "with open(data_yaml_path, \"w\") as f:\n",
    "    f.write(f\"\"\"\\\n",
    "train: {os.path.abspath(train_dir)}/images\n",
    "val: {os.path.abspath(val_dir)}/images\n",
    "\n",
    "nc: {len(ds.classes)}\n",
    "names: {ds.classes}\n",
    "\"\"\")"
   ]
  }
 ],
 "metadata": {
  "kernelspec": {
   "display_name": "Python 3 (ipykernel)",
   "language": "python",
   "name": "python3"
  },
  "language_info": {
   "codemirror_mode": {
    "name": "ipython",
    "version": 3
   },
   "file_extension": ".py",
   "mimetype": "text/x-python",
   "name": "python",
   "nbconvert_exporter": "python",
   "pygments_lexer": "ipython3",
   "version": "3.11.2"
  }
 },
 "nbformat": 4,
 "nbformat_minor": 5
}
