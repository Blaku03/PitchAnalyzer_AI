{
 "cells": [
  {
   "cell_type": "markdown",
   "id": "08ed1435-11b5-4e7c-ac78-f51e279fdc1c",
   "metadata": {},
   "source": [
    "# This is standalone notebook intend for running locally or on a server"
   ]
  },
  {
   "cell_type": "code",
   "execution_count": null,
   "id": "d6b117f3-d830-4202-b15f-9e561c655a9d",
   "metadata": {
    "scrolled": true
   },
   "outputs": [],
   "source": [
    "!pip install ultralytics\n",
    "!pip install roboflow\n",
    "!pip install python-dotenv"
   ]
  },
  {
   "cell_type": "code",
   "execution_count": null,
   "id": "7832fac9-be80-4b1e-bbb6-c61b603931f4",
   "metadata": {},
   "outputs": [],
   "source": [
    "from dotenv import load_dotenv\n",
    "import os\n",
    "\n",
    "load_dotenv()\n",
    "api_key = os.getenv(\"API_KEY\")"
   ]
  },
  {
   "cell_type": "markdown",
   "id": "7b19e773-09f1-401c-9775-3875de7f6a38",
   "metadata": {},
   "source": [
    "## Get Dataset"
   ]
  },
  {
   "cell_type": "code",
   "execution_count": null,
   "id": "3ef1bca0-723c-4bd2-98a5-447b23ed5c2c",
   "metadata": {},
   "outputs": [],
   "source": [
    "from roboflow import Roboflow\n",
    "\n",
    "rf = Roboflow(api_key=api_key)\n",
    "project = rf.workspace(\"roboflow-jvuqo\").project(\"football-players-detection-3zvbc\")\n",
    "version = project.version(14)\n",
    "dataset = version.download(\"yolov11\")"
   ]
  },
  {
   "cell_type": "markdown",
   "id": "e6144543-3c00-4ccd-921d-13da0bd53931",
   "metadata": {},
   "source": [
    "# Training"
   ]
  },
  {
   "cell_type": "code",
   "execution_count": null,
   "id": "a8233b97-28e8-42cd-9dbe-9111e20b6de3",
   "metadata": {},
   "outputs": [],
   "source": [
    "import torch\n",
    "\n",
    "torch.cuda.empty_cache()\n",
    "\n",
    "# Enable expandable segments (run before initializing tensors)\n",
    "import os\n",
    "os.environ[\"PYTORCH_CUDA_ALLOC_CONF\"] = \"expandable_segments:True\"\n",
    "\n",
    "# Monitor memory usage\n",
    "print(torch.cuda.memory_summary())"
   ]
  },
  {
   "cell_type": "code",
   "execution_count": null,
   "id": "4778d5be-5b14-4f25-aaf2-d0c3ad2a6e9a",
   "metadata": {},
   "outputs": [],
   "source": [
    "from pathlib import Path\n",
    "\n",
    "model_name = 'best.pt' # The starting model weights\n",
    "num_epochs = 50\n",
    "image_size = 640\n",
    "batch_size = 6\n",
    "data_yaml_path = Path(dataset.location) / 'data.yaml'"
   ]
  },
  {
   "cell_type": "code",
   "execution_count": null,
   "id": "4b922dff-2ecd-46f9-86eb-d334490a020c",
   "metadata": {},
   "outputs": [],
   "source": [
    "from ultralytics import YOLO\n",
    "\n",
    "model = YOLO(model_name)\n",
    "\n",
    "print(f\"Starting training with model: {model_name}\")\n",
    "print(f\"Dataset config: {data_yaml_path}\")\n",
    "print(f\"Epochs: {num_epochs}, Image Size: {image_size}, Batch Size: {batch_size}\")\n",
    "\n",
    "results = model.train(\n",
    "    data=data_yaml_path,\n",
    "    epochs=num_epochs,\n",
    "    imgsz=image_size,\n",
    "    batch=batch_size,\n",
    "    amp=True\n",
    ")"
   ]
  }
 ],
 "metadata": {
  "kernelspec": {
   "display_name": "Python 3 (ipykernel)",
   "language": "python",
   "name": "python3"
  },
  "language_info": {
   "codemirror_mode": {
    "name": "ipython",
    "version": 3
   },
   "file_extension": ".py",
   "mimetype": "text/x-python",
   "name": "python",
   "nbconvert_exporter": "python",
   "pygments_lexer": "ipython3",
   "version": "3.11.2"
  }
 },
 "nbformat": 4,
 "nbformat_minor": 5
}
