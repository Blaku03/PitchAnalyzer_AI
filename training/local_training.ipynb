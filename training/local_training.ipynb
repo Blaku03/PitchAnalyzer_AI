{
 "cells": [
  {
   "cell_type": "code",
   "execution_count": null,
   "id": "bdc35219-764c-4840-9617-b1165a8c2a7e",
   "metadata": {},
   "outputs": [],
   "source": [
    "import torch\n",
    "\n",
    "torch.cuda.empty_cache()\n",
    "\n",
    "# Enable expandable segments (run before initializing tensors)\n",
    "import os\n",
    "os.environ[\"PYTORCH_CUDA_ALLOC_CONF\"] = \"expandable_segments:True\"\n",
    "\n",
    "# Monitor memory usage\n",
    "print(torch.cuda.memory_summary())"
   ]
  },
  {
   "cell_type": "code",
   "execution_count": null,
   "id": "b061aecf-3804-4bcb-8d20-599a50799a75",
   "metadata": {},
   "outputs": [],
   "source": [
    "from pathlib import Path\n",
    "\n",
    "model_name = 'yolo11l.pt' # The starting model weights\n",
    "num_epochs = 5\n",
    "image_size = 960\n",
    "batch_size = 4\n",
    "dataset = Path('football-players-data')\n",
    "data_yaml_path = dataset / 'data.yaml'\n",
    "data_yaml_path.exists()\n",
    "run_name = 'Test'"
   ]
  },
  {
   "cell_type": "code",
   "execution_count": null,
   "id": "555842e4-2565-4466-bea9-6dcd6ee508c3",
   "metadata": {
    "scrolled": true
   },
   "outputs": [],
   "source": [
    "from ultralytics import YOLO\n",
    "\n",
    "model = YOLO(model_name)\n",
    "\n",
    "print(f\"Starting training with model: {model_name}\")\n",
    "print(f\"Dataset config: {data_yaml_path}\")\n",
    "print(f\"Epochs: {num_epochs}, Image Size: {image_size}, Batch Size: {batch_size}\")\n",
    "print(f\"Run Name: {run_name}\")\n",
    "\n",
    "results = model.train(\n",
    "    data=data_yaml_path,\n",
    "    epochs=num_epochs,\n",
    "    imgsz=image_size,\n",
    "    batch=batch_size,\n",
    "    name=run_name\n",
    ")"
   ]
  },
  {
   "cell_type": "code",
   "execution_count": null,
   "id": "d59813c4-b516-4ad2-9db7-91437470f13d",
   "metadata": {},
   "outputs": [],
   "source": [
    "import shutil\n",
    "# Path where YOLO saves the weights\n",
    "trained_model_path = Path(f\"../runs/detect/{run_name}/weights/best.pt\")\n",
    "output_model_dir = Path(f\"../models/player_detection/{run_name}\")\n",
    "# Create your custom models directory if it doesn't exist\n",
    "os.makedirs(output_model_dir, exist_ok=True)\n",
    "\n",
    "# Move the trained model\n",
    "shutil.copy(trained_model_path, f\"{output_model_dir}/best.pt\")\n",
    "print(f\"Model saved to {output_model_dir}/best.pt\")"
   ]
  }
 ],
 "metadata": {
  "kernelspec": {
   "display_name": "Python 3 (ipykernel)",
   "language": "python",
   "name": "python3"
  },
  "language_info": {
   "codemirror_mode": {
    "name": "ipython",
    "version": 3
   },
   "file_extension": ".py",
   "mimetype": "text/x-python",
   "name": "python",
   "nbconvert_exporter": "python",
   "pygments_lexer": "ipython3",
   "version": "3.11.2"
  }
 },
 "nbformat": 4,
 "nbformat_minor": 5
}
