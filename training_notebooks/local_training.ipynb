{
 "cells": [
  {
   "cell_type": "code",
   "execution_count": null,
   "id": "bdc35219-764c-4840-9617-b1165a8c2a7e",
   "metadata": {},
   "outputs": [],
   "source": [
    "import torch\n",
    "\n",
    "# Enable expandable segments (run before initializing tensors)\n",
    "import os\n",
    "os.environ[\"PYTORCH_CUDA_ALLOC_CONF\"] = \"expandable_segments:True\"\n",
    "\n",
    "# Monitor memory usage\n",
    "print(torch.cuda.memory_summary())"
   ]
  },
  {
   "cell_type": "code",
   "execution_count": null,
   "id": "b061aecf-3804-4bcb-8d20-599a50799a75",
   "metadata": {},
   "outputs": [],
   "source": [
    "from pathlib import Path\n",
    "\n",
    "model_name = 'yolo11l.pt' # The starting model weights\n",
    "num_epochs = 100\n",
    "image_size = 960\n",
    "dataset = Path('../../datasets/player_detection/')\n",
    "data_yaml_path = dataset / 'data.yaml'\n",
    "print(data_yaml_path.exists())\n",
    "run_name = 'v_1_1large_long'\n",
    "project_name = 'Pitch_Analyzer'"
   ]
  },
  {
   "cell_type": "code",
   "execution_count": null,
   "id": "37a5fffb-1ab7-48e1-add9-9c425de2fc34",
   "metadata": {},
   "outputs": [],
   "source": [
    "#Optional enable mlflow\n",
    "from ultralytics import settings\n",
    "import mlflow\n",
    "\n",
    "settings.update({\"mlflow\": True})\n",
    "mlflow.set_experiment(project_name)\n",
    "mlflow.autolog()"
   ]
  },
  {
   "cell_type": "code",
   "execution_count": null,
   "id": "dedf118c-78fc-4ffc-b905-4bb101982e1b",
   "metadata": {},
   "outputs": [],
   "source": [
    "import gc\n",
    "torch.cuda.empty_cache()\n",
    "gc.collect()"
   ]
  },
  {
   "cell_type": "code",
   "execution_count": null,
   "id": "555842e4-2565-4466-bea9-6dcd6ee508c3",
   "metadata": {
    "scrolled": true
   },
   "outputs": [],
   "source": [
    "from ultralytics import YOLO\n",
    "\n",
    "model = YOLO(model_name)\n",
    "\n",
    "print(f\"Starting training with model: {model_name}\")\n",
    "print(f\"Dataset config: {data_yaml_path}\")\n",
    "print(f\"Epochs: {num_epochs}, Image Size: {image_size}\")\n",
    "print(f\"Run Name: {run_name}\")\n",
    "\n",
    "torch.cuda.empty_cache()\n",
    "\n",
    "model = YOLO(model_name)\n",
    "\n",
    "results = model.train(\n",
    "    data=data_yaml_path,\n",
    "    epochs=num_epochs,\n",
    "    imgsz=image_size,\n",
    "    batch=0.8, # Automatically use 80% of GPU\n",
    "    project=project_name,\n",
    "    name=run_name\n",
    ")\n",
    "\n",
    "torch.cuda.empty_cache()"
   ]
  },
  {
   "cell_type": "code",
   "execution_count": null,
   "id": "c818332c-98fc-4725-9329-9178ecf43f39",
   "metadata": {},
   "outputs": [],
   "source": [
    "# Move the trained model\n",
    "import shutil\n",
    "# Path where YOLO saves the weights\n",
    "trained_model_path = Path(f\"../runs/detect/{run_name}/weights/best.pt\")\n",
    "output_model_dir = Path(f\"../models/player_detection/{run_name}\")\n",
    "# Create your custom models directory if it doesn't exist\n",
    "os.makedirs(output_model_dir, exist_ok=True)\n",
    "\n",
    "# Move the trained model\n",
    "shutil.copy(trained_model_path, f\"{output_model_dir}/best.pt\")\n",
    "print(f\"Model saved to {output_model_dir}/best.pt\")"
   ]
  }
 ],
 "metadata": {
  "kernelspec": {
   "display_name": "Python 3 (ipykernel)",
   "language": "python",
   "name": "python3"
  },
  "language_info": {
   "codemirror_mode": {
    "name": "ipython",
    "version": 3
   },
   "file_extension": ".py",
   "mimetype": "text/x-python",
   "name": "python",
   "nbconvert_exporter": "python",
   "pygments_lexer": "ipython3",
   "version": "3.11.2"
  }
 },
 "nbformat": 4,
 "nbformat_minor": 5
}
